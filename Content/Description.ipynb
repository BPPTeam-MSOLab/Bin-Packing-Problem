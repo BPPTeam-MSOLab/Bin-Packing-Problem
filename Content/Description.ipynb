{
 "cells": [
  {
   "cell_type": "markdown",
   "metadata": {},
   "source": [
    "# Bin Packing Problem\n",
    "\n",
    "## 1. Mô tả bài toán\n",
    "\n",
    "*Bài toán Xếp thùng* (Bin Packing Problem - BPP) thuộc vấn đề tối ưu hóa tổ hợp và lớp NP khó. Bài toán này được mô tả như sau:\n",
    "\n",
    "1. **Đầu vào:**\n",
    "    - Một tập hợp các vật phẩm (item) $I = \\{1, 2, ..., n\\}$, mỗi vật phẩm $i$ có dạng hình hợp chữ nhật với kích thước $w_i \\times l_i \\times h_i$ (chiều rộng, chiều dài, chiều cao).\n",
    "    - Một tập hợp các thùng chứa (bin/box) $B = \\{1, 2, ..., m\\}$, tất cả các thùng đều có cùng kích thước $W \\times L \\times H$.\n",
    "2. **Yêu cầu:**\n",
    "    - Xếp tất cả các vật phẩm vào các thùng sao cho:\n",
    "        - Mỗi vật phẩm chỉ thuộc vào một thùng.\n",
    "        - Các vật phẩm không được chồng lấn lên nhau.\n",
    "        - Có thể xoay các vật phẩm theo 6 hướng (3 chiều) để xếp vào thùng.\n",
    "        - Tổng kích thước của các vật phẩm trong mỗi thùng không vượt quá kích thước của thùng.\n",
    "    - Mục tiêu: Tối thiểu hóa số lượng thùng sử dụng.\n",
    "3. Ngoài ra, cấu hình của các vật phẩm trong thùng cũng có thể được yêu cầu theo một số hàm mục tiêu khác nhau, ví dụ:\n",
    "    - **Tính ổn định vật lý** (stablity) của các vật phẩm: các vật phẩm được nâng đỡ bởi các vật phẩm khác hoặc đáy thùng để tránh bị rơi khi vận chuyển.\n",
    "    - **Tính tiện dụng** (accessibility) khi sử dụng: các vật phẩm cần được xếp sao cho dễ dàng lấy ra theo yêu cầu sử dụng, hoặc thứ tự về độ ưu tiên.\n",
    "    - **Tính linh hoạt** (flexibility) trong việc thêm/xóa vật phẩm: cấu hình xếp thùng cần dễ dàng thay đổi khi có thêm/xóa vật phẩm.\n",
    "    - **Tính an toàn** (safety) khi vận chuyển: trong trường hợp các vật phẩm có khối lượng thì cần xếp sao cho trọng lượng của các vật phẩm không tập trung ở một phía thùng, hoặc vật phẩm quá nặng không được xếp ở trên vật phẩm nhẹ.\n",
    "    - **Tính đồng đều** (uniformity) trong việc xếp thùng: các thùng cần chứa số lượng vật phẩm gần bằng nhau hoặc có tỷ lệ nhất định.\n",
    "    - **Tính tổng quát** (generality) của cấu hình xếp thùng: cấu hình xếp thùng cần phù hợp với nhiều loại vật phẩm có hình dạng và kích thước khác nhau.\n",
    "    - ...\n",
    "\n",
    "## 2. Các phiên bản khác nhau của bài toán\n",
    "\n",
    "- Theo số chiều của vật phẩm:\n",
    "  - *1D BPP*: các vật phẩm và thùng là các đoạn thẳng.\n",
    "  - *2D BPP*: các vật phẩm và thùng là các hình chữ nhật.\n",
    "  - *3D BPP*: các vật phẩm và thùng là các hình hộp chữ nhật.\n",
    "- Theo thông tin về các vật phẩm:\n",
    "  - *Offline BPP*: tất cả thông tin về các vật phẩm đã biết trước khi xếp.\n",
    "  - *Online BPP*: các vật phẩm được đưa vào xếp một cách tuần tự, thông tin về vật phẩm tiếp theo chỉ được biết sau khi vật phẩm ngay trước đó đã được xếp. Phù hợp với các bài toán thực tế khi các vật phẩm đến theo băng chuyền.\n",
    "  - *Semionline BPP*: một số thông tin về các vật phẩm được biết trước, một số thông tin khác chỉ được biết khi vật phẩm đến.\n",
    "- Theo trạng thái của vật phẩm:\n",
    "  - *Static BPP*: các vật phẩm không thay đổi vị trí sau khi xếp.\n",
    "  - *Dynamic BPP*: các vật phẩm có thể đến và rời đi theo thời gian."
   ]
  }
 ],
 "metadata": {
  "language_info": {
   "name": "python"
  }
 },
 "nbformat": 4,
 "nbformat_minor": 2
}
