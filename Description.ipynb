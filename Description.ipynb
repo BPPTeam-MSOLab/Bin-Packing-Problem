{
 "cells": [
  {
   "cell_type": "markdown",
   "metadata": {},
   "source": [
    "# Bin Packing Problem\n",
    "\n",
    "Bài toán Xếp thùng (Bin Packing Problem - BPP) thuộc vấn đề tối ưu hóa tổ hợp và lớp NP khó. Bài toán này được mô tả như sau:\n",
    "\n",
    "1. **Đầu vào:**\n",
    "\t- Một tập hợp các vật phẩm (item) $I = \\{1, 2, ..., n\\}$, mỗi vật phẩm $i$ có dạng hình hợp chữ nhật với kích thước $w_i \\times l_i \\times h_i$ (chiều rộng, chiều dài, chiều cao).\n",
    "\t- Một tập hợp các thùng chứa (bin/box) $B = \\{1, 2, ..., m\\}$, tất cả các thùng đều có cùng kích thước $W \\times L \\times H$.\n",
    "2. **Yêu cầu:**\n",
    "\t- Xếp tất cả các vật phẩm vào các thùng sao cho:\n",
    "\t\t- Mỗi vật phẩm chỉ thuộc vào một thùng.\n",
    "\t\t- Các vật phẩm không được chồng lấn lên nhau.\n",
    "\t\t- Có thể xoay các vật phẩm theo 6 hướng (3 chiều) để xếp vào thùng.\n",
    "\t\t- Tổng kích thước của các vật phẩm trong mỗi thùng không vượt quá kích thước của thùng.\n",
    "\t- Mục tiêu: Tối thiểu hóa số lượng thùng sử dụng.\n",
    "\n",
    "3. Ngoài ra, cấu hình của các vật phẩm trong thùng cũng có thể được yêu cầu theo một số ràng buộc khác nhau, ví dụ như:\n",
    "\t- **Tính ổn định vật lý** (stablity) của các vật phẩm: các vật phẩm được nâng đỡ bởi các vật phẩm khác hoặc đáy thùng để tránh bị rơi khi vận chuyển.\n",
    "\t- **Tính tiện dụng** (accessibility) khi sử dụng: các vật phẩm cần được xếp sao cho dễ dàng lấy ra theo yêu cầu sử dụng, hoặc thứ tự về độ ưu tiên.\n",
    "\t- **Tính linh hoạt** (flexibility) trong việc thêm/xóa vật phẩm: cấu hình xếp thùng cần dễ dàng thay đổi khi có thêm/xóa vật phẩm.\n",
    "\t- **Tính đồng nhất** (uniformity) trong việc xếp thùng: các thùng cần chứa số lượng vật phẩm gần bằng nhau hoặc có tỷ lệ nhất định.\n",
    "\t- ..."
   ]
  },
  {
   "cell_type": "markdown",
   "metadata": {},
   "source": []
  }
 ],
 "metadata": {
  "language_info": {
   "name": "python"
  }
 },
 "nbformat": 4,
 "nbformat_minor": 2
}
